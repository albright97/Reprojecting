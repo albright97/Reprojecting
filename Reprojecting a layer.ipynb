{
 "cells": [
  {
   "cell_type": "code",
   "execution_count": 18,
   "id": "d2ac15aa-c452-45f3-bdb8-4d6824d79c84",
   "metadata": {},
   "outputs": [
    {
     "name": "stdout",
     "output_type": "stream",
     "text": [
      "Reprojected roads4 layer saved successfully.\n"
     ]
    }
   ],
   "source": [
    "import geopandas as gpd\n",
    "\n",
    "# Load the roads shapefile\n",
    "roads_path = r'C:\\Users\\HP\\OneDrive\\Desktop\\Trial Data\\Roads\\Roads4.shp'\n",
    "roads_gdf = gpd.read_file(roads_path)\n",
    "\n",
    "# Reproject to the desired CRS (e.g., WGS 84)\n",
    "roads_reprojected = roads_gdf.to_crs(epsg=3395)  # Change EPSG code as needed\n",
    "\n",
    "# Save the reprojected layer to disk\n",
    "output_path = r'C:\\Users\\HP\\OneDrive\\Desktop\\Trial Data\\Roads\\Roads4_reprojected.shp'\n",
    "roads_reprojected.to_file(output_path)\n",
    "\n",
    "print(\"Reprojected roads4 layer saved successfully.\")\n"
   ]
  },
  {
   "cell_type": "code",
   "execution_count": null,
   "id": "8c7f97e5-ba3a-4c02-bb86-0d720d1525d8",
   "metadata": {},
   "outputs": [],
   "source": []
  }
 ],
 "metadata": {
  "kernelspec": {
   "display_name": "Python 3 (ipykernel)",
   "language": "python",
   "name": "python3"
  },
  "language_info": {
   "codemirror_mode": {
    "name": "ipython",
    "version": 3
   },
   "file_extension": ".py",
   "mimetype": "text/x-python",
   "name": "python",
   "nbconvert_exporter": "python",
   "pygments_lexer": "ipython3",
   "version": "3.12.3"
  }
 },
 "nbformat": 4,
 "nbformat_minor": 5
}
